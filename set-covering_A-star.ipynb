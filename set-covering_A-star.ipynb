{
 "cells": [
  {
   "cell_type": "code",
   "execution_count": 1,
   "metadata": {},
   "outputs": [],
   "source": [
    "from random import random\n",
    "from functools import reduce\n",
    "from collections import namedtuple\n",
    "from queue import PriorityQueue\n",
    "from math import ceil\n",
    "\n",
    "import numpy as np"
   ]
  },
  {
   "cell_type": "code",
   "execution_count": 18,
   "metadata": {},
   "outputs": [],
   "source": [
    "PROBLEM_SIZE = 30\n",
    "NUM_SETS = 50\n",
    "SETS = tuple(\n",
    "    np.array([random() < 0.3 for _ in range(PROBLEM_SIZE)])\n",
    "    for _ in range(NUM_SETS)\n",
    ")\n",
    "State = namedtuple('State', ['taken', 'not_taken'])"
   ]
  },
  {
   "cell_type": "code",
   "execution_count": 6,
   "metadata": {},
   "outputs": [],
   "source": [
    "def goal_check(state):\n",
    "    return np.all(reduce(\n",
    "        np.logical_or,\n",
    "        [SETS[i] for i in state.taken],\n",
    "        np.array([False for _ in range(PROBLEM_SIZE)]),\n",
    "    ))\n"
   ]
  },
  {
   "cell_type": "code",
   "execution_count": 7,
   "metadata": {},
   "outputs": [],
   "source": [
    "assert goal_check(\n",
    "    State(set(range(NUM_SETS)), set())\n",
    "), \"Problem not solvable\""
   ]
  },
  {
   "cell_type": "code",
   "execution_count": 10,
   "metadata": {},
   "outputs": [],
   "source": [
    "def h(state):\n",
    "  # current set (with all covered tiles)\n",
    "  already_covered = reduce(\n",
    "    np.logical_or,\n",
    "    [SETS[i] for i in state.taken],\n",
    "    np.array([False for _ in range(PROBLEM_SIZE)]),\n",
    "  )\n",
    "  \n",
    "  if np.all(already_covered):\n",
    "    return 0\n",
    "  \n",
    "  missing_elements = PROBLEM_SIZE - sum(already_covered)\n",
    "  \n",
    "  largest_size_set = 0\n",
    "  for i in state.not_taken:\n",
    "    uncovered_elements = np.logical_and(SETS[i], np.logical_not(already_covered))          # uncovered elements by i-th set (they are True now)\n",
    "    size = sum(uncovered_elements)                      # counting all True values (that were False before)\n",
    "    largest_size_set = max(largest_size_set, size)      # selecting the maximum number of False in sets\n",
    "    \n",
    "  if(largest_size_set != 0):\n",
    "    result = ceil(missing_elements / largest_size_set)\n",
    "  else:\n",
    "    result = missing_elements+1\n",
    "\n",
    "  return result\n",
    "  \n",
    "def g(state):\n",
    "  return len(state.taken)\n",
    "\n",
    "def f(state):\n",
    "  return g(state) + h(state)"
   ]
  },
  {
   "cell_type": "code",
   "execution_count": 19,
   "metadata": {},
   "outputs": [
    {
     "name": "stdout",
     "output_type": "stream",
     "text": [
      "Solved in 56 steps (3 tiles)\n"
     ]
    }
   ],
   "source": [
    "frontier = PriorityQueue()\n",
    "#state = State(set(), set(range(NUM_SETS)))\n",
    "actions = filter(lambda x: sum(SETS[x]) != 0, range(NUM_SETS))\n",
    "frontier.put( (0, State(set(), set(actions))) )\n",
    "\n",
    "counter = 0\n",
    "_, current_state = frontier.get()\n",
    "while not goal_check(current_state):\n",
    "    counter += 1\n",
    "    for action in current_state[1]:\n",
    "        new_state = State(\n",
    "            current_state.taken ^ {action},\n",
    "            current_state.not_taken ^ {action},\n",
    "        )\n",
    "        frontier.put( (f(new_state), new_state) )\n",
    "    _, current_state = frontier.get()\n",
    "\n",
    "#[print(SETS[i]) for i in current_state.taken]\n",
    "print(\n",
    "    f\"Solved in {counter:,} steps ({len(current_state.taken)} tiles)\"\n",
    ")"
   ]
  }
 ],
 "metadata": {
  "kernelspec": {
   "display_name": "ci-P-7LqQ3C-py3.11",
   "language": "python",
   "name": "python3"
  },
  "language_info": {
   "codemirror_mode": {
    "name": "ipython",
    "version": 3
   },
   "file_extension": ".py",
   "mimetype": "text/x-python",
   "name": "python",
   "nbconvert_exporter": "python",
   "pygments_lexer": "ipython3",
   "version": "3.11.0"
  }
 },
 "nbformat": 4,
 "nbformat_minor": 2
}
